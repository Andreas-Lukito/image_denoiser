{
 "cells": [
  {
   "cell_type": "markdown",
   "id": "c2386bfd",
   "metadata": {},
   "source": [
    "# Image Denoiser"
   ]
  },
  {
   "cell_type": "markdown",
   "id": "e4c57a88",
   "metadata": {},
   "source": [
    "In this project, an Autoencoder-based deep learning model is developed to reconstruct and denoise air temperature-related visual data, simulating noisy sensor imagery. All input images are preprocessed and resized to 100×100 pixels to fit the network architecture, and Gaussian noise is added to mimic corrupted input data.\n",
    "\n",
    "Two autoencoder models are would be compared:\n",
    "1. A baseline Auto Encoder model with an architecture as follow:\n",
    "\n",
    "| Layer            | Type          | Output Shape         | Kernel Size | Activation |\n",
    "|------------------|---------------|-----------------------|-------------|------------|\n",
    "| Input Layer      | Input          | (None, 100, 100, 3)   | 3×3         | ReLU       |\n",
    "| Conv2D\\_0         | Conv2D         | (None, 100, 100, 32)  | 3×3         | ReLU       |\n",
    "| MaxPool2D\\_0      | MaxPooling2D   | (None, 50, 50, 32)    | 3×3         | ReLU       |\n",
    "| Conv2D\\_1         | Conv2D         | (None, 50, 50, 64)    | 3×3         | ReLU       |\n",
    "| MaxPool2D\\_1      | MaxPooling2D   | (None, 25, 25, 64)    | 3×3         | ReLU       |\n",
    "| Conv2D\\_2         | Conv2D         | (None, 25, 25, 64)    | 3×3         | ReLU       |\n",
    "| UpSample2D\\_0     | UpSampling2D   | (None, 50, 50, 64)    | -           | ReLU       |\n",
    "| Conv2D\\_3         | Conv2D         | (None, 50, 50, 32)    | 3×3         | ReLU       |\n",
    "| UpSample2D\\_1     | UpSampling2D   | (None, 100, 100, 32)  | -           | ReLU       |\n",
    "| Conv2D\\_4         | Conv2D         | (None, 100, 100, 3)   | 3×3         | Sigmoid    |\n",
    "\n",
    "\n",
    "The optimizer for the baseline Auto Encoder model is Adam with a loss function of MSE.\n",
    "\n",
    "2. A proposed Auto Encoder model optimized using Optuna for hyperparameter tuning.\n",
    "\n",
    "All images were resized to 100x100 to match model input requirements. Gaussian noise was added to simulate corrupted data, useful for training the autoencoder to denoise images.\n"
   ]
  },
  {
   "cell_type": "markdown",
   "id": "4a010185",
   "metadata": {},
   "source": [
    "## Import Libraries"
   ]
  },
  {
   "cell_type": "code",
   "execution_count": 1,
   "id": "1423dcba",
   "metadata": {},
   "outputs": [],
   "source": [
    "# Common python libraries\n",
    "import numpy as np\n",
    "import matplotlib.pyplot as plt\n",
    "import seaborn as sns\n",
    "import pandas as pd\n",
    "import pynvml\n",
    "import cv2\n",
    "import os\n",
    "import glob\n",
    "from tqdm import tqdm\n",
    "import pickle\n",
    "import shutil\n",
    "import random\n",
    "import math\n",
    "import copy\n",
    "from PIL import ImageFile\n",
    "\n",
    "# Deep Learning Libraries\n",
    "import torch\n",
    "import torch.nn as nn\n",
    "from torch import optim\n",
    "from torchvision import transforms\n",
    "from torch.utils.data import DataLoader\n",
    "from torchvision.datasets import ImageFolder\n",
    "\n",
    "# Hyper Parameter Tuning\n",
    "import optuna\n",
    "from optuna.exceptions import TrialPruned\n",
    "from optuna.trial import TrialState\n",
    "\n",
    "# Data preprocessing\n",
    "from sklearn.model_selection import train_test_split\n",
    "\n",
    "# Model Evaluation\n",
    "from sklearn.metrics import classification_report, confusion_matrix"
   ]
  },
  {
   "cell_type": "markdown",
   "id": "db6e66c8",
   "metadata": {},
   "source": [
    "## GPU Check"
   ]
  },
  {
   "cell_type": "code",
   "execution_count": 2,
   "id": "c1a1642d",
   "metadata": {},
   "outputs": [
    {
     "name": "stdout",
     "output_type": "stream",
     "text": [
      "Pytorch is not using the GPU\n"
     ]
    }
   ],
   "source": [
    "device = torch.device(\"cuda\" if torch.cuda.is_available() else \"cpu\")\n",
    "\n",
    "if torch.cuda.is_available():\n",
    "    print(\"Pytorch is using the GPU\")\n",
    "\n",
    "    import pynvml\n",
    "    pynvml.nvmlInit()\n",
    "\n",
    "    num_gpus = pynvml.nvmlDeviceGetCount()\n",
    "\n",
    "    for i in range(num_gpus):\n",
    "        handle = pynvml.nvmlDeviceGetHandleByIndex(i)\n",
    "        gpu_name = pynvml.nvmlDeviceGetName(handle)\n",
    "        print(\"GPU Name:\", gpu_name)\n",
    "\n",
    "    pynvml.nvmlShutdown()\n",
    "else:\n",
    "    print(\"Pytorch is not using the GPU\")"
   ]
  },
  {
   "cell_type": "code",
   "execution_count": 3,
   "id": "d50d8e48",
   "metadata": {},
   "outputs": [
    {
     "name": "stdout",
     "output_type": "stream",
     "text": [
      "Num GPUs Available:  0\n"
     ]
    }
   ],
   "source": [
    "print(\"Num GPUs Available: \", torch.cuda.device_count())"
   ]
  },
  {
   "cell_type": "markdown",
   "id": "7d8e401d",
   "metadata": {},
   "source": [
    "## Importing the Data"
   ]
  },
  {
   "cell_type": "code",
   "execution_count": 4,
   "id": "495b9b78",
   "metadata": {},
   "outputs": [],
   "source": [
    "def img_to_df(img_path: str):\n",
    "    \"\"\"\n",
    "    Convert image paths to DataFrame. for easier data preprocessing.\n",
    "    \n",
    "    Args:\n",
    "        img_path (str): Path to the folder containing the image.\n",
    "    \n",
    "    Returns:\n",
    "        pd.DataFrame: DataFrame containing image path, label, width, height, and channel_info.\n",
    "    \"\"\"\n",
    "    #checks\n",
    "    if not isinstance(img_path, str):\n",
    "        raise TypeError(\"img_path must be a string.\")\n",
    "    if not os.path.exists(img_path):\n",
    "        raise FileNotFoundError(f\"The path {img_path} does not exist.\")\n",
    "    if not os.path.isdir(img_path):\n",
    "        raise NotADirectoryError(f\"The path {img_path} is not a directory.\")\n",
    "    \n",
    "    # Get the list of all image files in the directory\n",
    "    glob_path = os.path.join(img_path, \"**\", \"*.jpg\")\n",
    "    print(f\"glob_path: {glob_path}\")\n",
    "    \n",
    "    image_path = glob.glob(glob_path, recursive=True) #recursive=True is to allow for subdirectories to be searched\n",
    "    print(f\"image_path: {image_path}\")\n",
    "    \n",
    "    # Get the width, height, and channel information of the images\n",
    "    width = []\n",
    "    height = []\n",
    "    channel_info = []\n",
    "    avg_red = []\n",
    "    avg_green = []\n",
    "    avg_blue = []\n",
    "    \n",
    "    for path in tqdm(image_path, desc=\"Processing images\", unit=\"image\"):\n",
    "        img = cv2.imread(path)\n",
    "        if img is None:\n",
    "            print(f\"Skipping corrupted image: {path}\")\n",
    "            continue\n",
    "\n",
    "        h, w, c = img.shape\n",
    "        average = img.mean(axis=0).mean(axis=0)\n",
    "        \n",
    "        # Append to the list\n",
    "        height.append(h)\n",
    "        width.append(w)\n",
    "        channel_info.append(c)\n",
    "        avg_blue.append(average[0])\n",
    "        avg_green.append(average[1])\n",
    "        avg_red.append(average[2])\n",
    "        \n",
    "        \n",
    "    #combine into one dataframe\n",
    "    df = pd.DataFrame({\n",
    "        \"image_path\": image_path,\n",
    "        \"width\": width,\n",
    "        \"height\": height,\n",
    "        \"channel_info\": channel_info,\n",
    "        \"img_avg_red\": avg_red,\n",
    "        \"img_avg_green\": avg_green,\n",
    "        \"img_avg_blue\": avg_blue\n",
    "    })\n",
    "    \n",
    "    return df"
   ]
  },
  {
   "cell_type": "markdown",
   "id": "586d15b1",
   "metadata": {},
   "source": [
    "### Caching Function to Load the Data Faster"
   ]
  },
  {
   "cell_type": "code",
   "execution_count": 5,
   "id": "ed685e21",
   "metadata": {},
   "outputs": [],
   "source": [
    "def save_cache(data, filename):\n",
    "    \"\"\"This is a function to save the data to a file using pickle\n",
    "\n",
    "    Args:\n",
    "        data (_type_): data to be saved\n",
    "        filename (_type_): the name of the file to save the data to\n",
    "    \"\"\"\n",
    "    with open(filename, 'wb') as f:\n",
    "        pickle.dump(data, f)\n",
    "    print(f\"Data saved to {filename}\")\n",
    "\n",
    "def load_cache(filename):\n",
    "    \"\"\"This is a function to load the data to a file using pickle\n",
    "\n",
    "    Args:\n",
    "        data (_type_): data to be saved\n",
    "        filename (_type_): the name of the file to load the data to\n",
    "    \"\"\"\n",
    "    with open(filename, 'rb') as f:\n",
    "        return pickle.load(f)\n",
    "    print(f\"Data loaded from {filename}\")"
   ]
  },
  {
   "cell_type": "code",
   "execution_count": 6,
   "id": "3cb6845b",
   "metadata": {},
   "outputs": [
    {
     "name": "stdout",
     "output_type": "stream",
     "text": [
      "Creating and caching dataset...\n",
      "glob_path: ./img_data/**/*.jpg\n",
      "image_path: ['./img_data/kirmizi 680.jpg', './img_data/kirmizi 986.jpg', './img_data/kirmizi 1000.jpg', './img_data/kirmizi 1001.jpg', './img_data/kirmizi 1002.jpg', './img_data/kirmizi 1003.jpg', './img_data/kirmizi 1004.jpg', './img_data/kirmizi 1005.jpg', './img_data/kirmizi 1006.jpg', './img_data/kirmizi 1007.jpg', './img_data/kirmizi 1008.jpg', './img_data/kirmizi 1009.jpg', './img_data/kirmizi 1010.jpg', './img_data/kirmizi 1011.jpg', './img_data/kirmizi 1012.jpg', './img_data/kirmizi 1013.jpg', './img_data/kirmizi 1014.jpg', './img_data/kirmizi 1015.jpg', './img_data/kirmizi 1017.jpg', './img_data/kirmizi 1018.jpg', './img_data/kirmizi 1019.jpg', './img_data/kirmizi 1020.jpg', './img_data/kirmizi 1021.jpg', './img_data/kirmizi 1022.jpg', './img_data/kirmizi 1023.jpg', './img_data/kirmizi 1024.jpg', './img_data/kirmizi 1025.jpg', './img_data/kirmizi 1026.jpg', './img_data/kirmizi 1027.jpg', './img_data/kirmizi 1028.jpg', './img_data/kirmizi 1029.jpg', './img_data/kirmizi 1030.jpg', './img_data/kirmizi 1031.jpg', './img_data/kirmizi 1032.jpg', './img_data/kirmizi 1034.jpg', './img_data/kirmizi 1035.jpg', './img_data/kirmizi 1036.jpg', './img_data/kirmizi 1037.jpg', './img_data/kirmizi 1038.jpg', './img_data/kirmizi 1039.jpg', './img_data/kirmizi 1040.jpg', './img_data/kirmizi 1041.jpg', './img_data/kirmizi 1042.jpg', './img_data/kirmizi 1043.jpg', './img_data/kirmizi 1044.jpg', './img_data/kirmizi 1045.jpg', './img_data/kirmizi 1046.jpg', './img_data/kirmizi 1047.jpg', './img_data/kirmizi 1048.jpg', './img_data/kirmizi 1049.jpg', './img_data/kirmizi 1051.jpg', './img_data/kirmizi 1052.jpg', './img_data/kirmizi 1053.jpg', './img_data/kirmizi 1054.jpg', './img_data/kirmizi 1055.jpg', './img_data/kirmizi 1056.jpg', './img_data/kirmizi 1057.jpg', './img_data/kirmizi 1058.jpg', './img_data/kirmizi 1059.jpg', './img_data/kirmizi 1060.jpg', './img_data/kirmizi 1061.jpg', './img_data/kirmizi 1062.jpg', './img_data/kirmizi 1063.jpg', './img_data/kirmizi 1064.jpg', './img_data/kirmizi 1065.jpg', './img_data/kirmizi 1066.jpg', './img_data/kirmizi 1016.jpg', './img_data/kirmizi 1033.jpg', './img_data/kirmizi 1050.jpg', './img_data/kirmizi 1067.jpg', './img_data/kirmizi 1084.jpg', './img_data/kirmizi 1101.jpg', './img_data/kirmizi 1118.jpg', './img_data/kirmizi 1135.jpg', './img_data/kirmizi 1152.jpg', './img_data/kirmizi 554.jpg', './img_data/kirmizi 572.jpg', './img_data/kirmizi 590.jpg', './img_data/kirmizi 608.jpg', './img_data/kirmizi 626.jpg', './img_data/kirmizi 644.jpg', './img_data/kirmizi 662.jpg', './img_data/kirmizi 1068.jpg', './img_data/kirmizi 1069.jpg', './img_data/kirmizi 1070.jpg', './img_data/kirmizi 1071.jpg', './img_data/kirmizi 1072.jpg', './img_data/kirmizi 1073.jpg', './img_data/kirmizi 1074.jpg', './img_data/kirmizi 1075.jpg', './img_data/kirmizi 1076.jpg', './img_data/kirmizi 1077.jpg', './img_data/kirmizi 1078.jpg', './img_data/kirmizi 1079.jpg', './img_data/kirmizi 1080.jpg', './img_data/kirmizi 1081.jpg', './img_data/kirmizi 1082.jpg', './img_data/kirmizi 1083.jpg', './img_data/kirmizi 1085.jpg', './img_data/kirmizi 1086.jpg', './img_data/kirmizi 1087.jpg', './img_data/kirmizi 1088.jpg', './img_data/kirmizi 1089.jpg', './img_data/kirmizi 1090.jpg', './img_data/kirmizi 1091.jpg', './img_data/kirmizi 1092.jpg', './img_data/kirmizi 1093.jpg', './img_data/kirmizi 1094.jpg', './img_data/kirmizi 1095.jpg', './img_data/kirmizi 1096.jpg', './img_data/kirmizi 1097.jpg', './img_data/kirmizi 1098.jpg', './img_data/kirmizi 1099.jpg', './img_data/kirmizi 1100.jpg', './img_data/kirmizi 1102.jpg', './img_data/kirmizi 1103.jpg', './img_data/kirmizi 1104.jpg', './img_data/kirmizi 1105.jpg', './img_data/kirmizi 1106.jpg', './img_data/kirmizi 1107.jpg', './img_data/kirmizi 1108.jpg', './img_data/kirmizi 1109.jpg', './img_data/kirmizi 1110.jpg', './img_data/kirmizi 1111.jpg', './img_data/kirmizi 1112.jpg', './img_data/kirmizi 1113.jpg', './img_data/kirmizi 1114.jpg', './img_data/kirmizi 1115.jpg', './img_data/kirmizi 1116.jpg', './img_data/kirmizi 1117.jpg', './img_data/kirmizi 1119.jpg', './img_data/kirmizi 1120.jpg', './img_data/kirmizi 1121.jpg', './img_data/kirmizi 1122.jpg', './img_data/kirmizi 1123.jpg', './img_data/kirmizi 1124.jpg', './img_data/kirmizi 1125.jpg', './img_data/kirmizi 1126.jpg', './img_data/kirmizi 1127.jpg', './img_data/kirmizi 1128.jpg', './img_data/kirmizi 1129.jpg', './img_data/kirmizi 1130.jpg', './img_data/kirmizi 1131.jpg', './img_data/kirmizi 1132.jpg', './img_data/kirmizi 1133.jpg', './img_data/kirmizi 1134.jpg', './img_data/kirmizi 1136.jpg', './img_data/kirmizi 1137.jpg', './img_data/kirmizi 1138.jpg', './img_data/kirmizi 1139.jpg', './img_data/kirmizi 1140.jpg', './img_data/kirmizi 1141.jpg', './img_data/kirmizi 1142.jpg', './img_data/kirmizi 1143.jpg', './img_data/kirmizi 1144.jpg', './img_data/kirmizi 1145.jpg', './img_data/kirmizi 1146.jpg', './img_data/kirmizi 1147.jpg', './img_data/kirmizi 1148.jpg', './img_data/kirmizi 1149.jpg', './img_data/kirmizi 1150.jpg', './img_data/kirmizi 1151.jpg', './img_data/kirmizi 1153.jpg', './img_data/kirmizi 1154.jpg', './img_data/kirmizi 1155.jpg', './img_data/kirmizi 1156.jpg', './img_data/kirmizi 1157.jpg', './img_data/kirmizi 1158.jpg', './img_data/kirmizi 1159.jpg', './img_data/kirmizi 1160.jpg', './img_data/kirmizi 1161.jpg', './img_data/kirmizi 1162.jpg', './img_data/kirmizi 1163.jpg', './img_data/kirmizi 1164.jpg', './img_data/kirmizi 1165.jpg', './img_data/kirmizi 1166.jpg', './img_data/kirmizi 1167.jpg', './img_data/kirmizi 552.jpg', './img_data/kirmizi 553.jpg', './img_data/kirmizi 555.jpg', './img_data/kirmizi 556.jpg', './img_data/kirmizi 557.jpg', './img_data/kirmizi 558.jpg', './img_data/kirmizi 559.jpg', './img_data/kirmizi 560.jpg', './img_data/kirmizi 561.jpg', './img_data/kirmizi 562.jpg', './img_data/kirmizi 563.jpg', './img_data/kirmizi 564.jpg', './img_data/kirmizi 565.jpg', './img_data/kirmizi 566.jpg', './img_data/kirmizi 567.jpg', './img_data/kirmizi 568.jpg', './img_data/kirmizi 569.jpg', './img_data/kirmizi 570.jpg', './img_data/kirmizi 571.jpg', './img_data/kirmizi 573.jpg', './img_data/kirmizi 574.jpg', './img_data/kirmizi 575.jpg', './img_data/kirmizi 576.jpg', './img_data/kirmizi 577.jpg', './img_data/kirmizi 578.jpg', './img_data/kirmizi 579.jpg', './img_data/kirmizi 580.jpg', './img_data/kirmizi 581.jpg', './img_data/kirmizi 582.jpg', './img_data/kirmizi 583.jpg', './img_data/kirmizi 584.jpg', './img_data/kirmizi 585.jpg', './img_data/kirmizi 586.jpg', './img_data/kirmizi 587.jpg', './img_data/kirmizi 588.jpg', './img_data/kirmizi 589.jpg', './img_data/kirmizi 591.jpg', './img_data/kirmizi 592.jpg', './img_data/kirmizi 593.jpg', './img_data/kirmizi 594.jpg', './img_data/kirmizi 595.jpg', './img_data/kirmizi 596.jpg', './img_data/kirmizi 597.jpg', './img_data/kirmizi 598.jpg', './img_data/kirmizi 599.jpg', './img_data/kirmizi 600.jpg', './img_data/kirmizi 601.jpg', './img_data/kirmizi 602.jpg', './img_data/kirmizi 603.jpg', './img_data/kirmizi 604.jpg', './img_data/kirmizi 605.jpg', './img_data/kirmizi 606.jpg', './img_data/kirmizi 607.jpg', './img_data/kirmizi 609.jpg', './img_data/kirmizi 610.jpg', './img_data/kirmizi 611.jpg', './img_data/kirmizi 612.jpg', './img_data/kirmizi 613.jpg', './img_data/kirmizi 614.jpg', './img_data/kirmizi 615.jpg', './img_data/kirmizi 616.jpg', './img_data/kirmizi 617.jpg', './img_data/kirmizi 618.jpg', './img_data/kirmizi 619.jpg', './img_data/kirmizi 620.jpg', './img_data/kirmizi 621.jpg', './img_data/kirmizi 622.jpg', './img_data/kirmizi 623.jpg', './img_data/kirmizi 624.jpg', './img_data/kirmizi 625.jpg', './img_data/kirmizi 627.jpg', './img_data/kirmizi 628.jpg', './img_data/kirmizi 629.jpg', './img_data/kirmizi 630.jpg', './img_data/kirmizi 631.jpg', './img_data/kirmizi 632.jpg', './img_data/kirmizi 633.jpg', './img_data/kirmizi 634.jpg', './img_data/kirmizi 635.jpg', './img_data/kirmizi 636.jpg', './img_data/kirmizi 637.jpg', './img_data/kirmizi 638.jpg', './img_data/kirmizi 639.jpg', './img_data/kirmizi 640.jpg', './img_data/kirmizi 641.jpg', './img_data/kirmizi 642.jpg', './img_data/kirmizi 643.jpg', './img_data/kirmizi 645.jpg', './img_data/kirmizi 646.jpg', './img_data/kirmizi 647.jpg', './img_data/kirmizi 648.jpg', './img_data/kirmizi 649.jpg', './img_data/kirmizi 650.jpg', './img_data/kirmizi 651.jpg', './img_data/kirmizi 652.jpg', './img_data/kirmizi 653.jpg', './img_data/kirmizi 654.jpg', './img_data/kirmizi 655.jpg', './img_data/kirmizi 656.jpg', './img_data/kirmizi 657.jpg', './img_data/kirmizi 658.jpg', './img_data/kirmizi 659.jpg', './img_data/kirmizi 660.jpg', './img_data/kirmizi 661.jpg', './img_data/kirmizi 663.jpg', './img_data/kirmizi 664.jpg', './img_data/kirmizi 665.jpg', './img_data/kirmizi 666.jpg', './img_data/kirmizi 667.jpg', './img_data/kirmizi 668.jpg', './img_data/kirmizi 669.jpg', './img_data/kirmizi 670.jpg', './img_data/kirmizi 671.jpg', './img_data/kirmizi 672.jpg', './img_data/kirmizi 673.jpg', './img_data/kirmizi 674.jpg', './img_data/kirmizi 675.jpg', './img_data/kirmizi 676.jpg', './img_data/kirmizi 677.jpg', './img_data/kirmizi 678.jpg', './img_data/kirmizi 679.jpg', './img_data/kirmizi 681.jpg', './img_data/kirmizi 682.jpg', './img_data/kirmizi 683.jpg', './img_data/kirmizi 684.jpg', './img_data/kirmizi 685.jpg', './img_data/kirmizi 686.jpg', './img_data/kirmizi 687.jpg', './img_data/kirmizi 688.jpg', './img_data/kirmizi 689.jpg', './img_data/kirmizi 690.jpg', './img_data/kirmizi 691.jpg', './img_data/kirmizi 692.jpg', './img_data/kirmizi 693.jpg', './img_data/kirmizi 694.jpg', './img_data/kirmizi 695.jpg', './img_data/kirmizi 696.jpg', './img_data/kirmizi 697.jpg', './img_data/kirmizi 699.jpg', './img_data/kirmizi 700.jpg', './img_data/kirmizi 701.jpg', './img_data/kirmizi 702.jpg', './img_data/kirmizi 703.jpg', './img_data/kirmizi 704.jpg', './img_data/kirmizi 705.jpg', './img_data/kirmizi 706.jpg', './img_data/kirmizi 707.jpg', './img_data/kirmizi 708.jpg', './img_data/kirmizi 709.jpg', './img_data/kirmizi 710.jpg', './img_data/kirmizi 711.jpg', './img_data/kirmizi 712.jpg', './img_data/kirmizi 713.jpg', './img_data/kirmizi 714.jpg', './img_data/kirmizi 715.jpg', './img_data/kirmizi 717.jpg', './img_data/kirmizi 718.jpg', './img_data/kirmizi 719.jpg', './img_data/kirmizi 720.jpg', './img_data/kirmizi 721.jpg', './img_data/kirmizi 722.jpg', './img_data/kirmizi 723.jpg', './img_data/kirmizi 724.jpg', './img_data/kirmizi 725.jpg', './img_data/kirmizi 726.jpg', './img_data/kirmizi 727.jpg', './img_data/kirmizi 728.jpg', './img_data/kirmizi 729.jpg', './img_data/kirmizi 730.jpg', './img_data/kirmizi 731.jpg', './img_data/kirmizi 732.jpg', './img_data/kirmizi 733.jpg', './img_data/kirmizi 735.jpg', './img_data/kirmizi 736.jpg', './img_data/kirmizi 737.jpg', './img_data/kirmizi 738.jpg', './img_data/kirmizi 739.jpg', './img_data/kirmizi 740.jpg', './img_data/kirmizi 741.jpg', './img_data/kirmizi 742.jpg', './img_data/kirmizi 743.jpg', './img_data/kirmizi 744.jpg', './img_data/kirmizi 745.jpg', './img_data/kirmizi 746.jpg', './img_data/kirmizi 747.jpg', './img_data/kirmizi 748.jpg', './img_data/kirmizi 749.jpg', './img_data/kirmizi 750.jpg', './img_data/kirmizi 751.jpg', './img_data/kirmizi 753.jpg', './img_data/kirmizi 754.jpg', './img_data/kirmizi 755.jpg', './img_data/kirmizi 756.jpg', './img_data/kirmizi 757.jpg', './img_data/kirmizi 758.jpg', './img_data/kirmizi 759.jpg', './img_data/kirmizi 760.jpg', './img_data/kirmizi 761.jpg', './img_data/kirmizi 762.jpg', './img_data/kirmizi 763.jpg', './img_data/kirmizi 764.jpg', './img_data/kirmizi 765.jpg', './img_data/kirmizi 766.jpg', './img_data/kirmizi 767.jpg', './img_data/kirmizi 768.jpg', './img_data/kirmizi 769.jpg', './img_data/kirmizi 771.jpg', './img_data/kirmizi 772.jpg', './img_data/kirmizi 773.jpg', './img_data/kirmizi 774.jpg', './img_data/kirmizi 775.jpg', './img_data/kirmizi 776.jpg', './img_data/kirmizi 777.jpg', './img_data/kirmizi 778.jpg', './img_data/kirmizi 779.jpg', './img_data/kirmizi 780.jpg', './img_data/kirmizi 781.jpg', './img_data/kirmizi 782.jpg', './img_data/kirmizi 783.jpg', './img_data/kirmizi 784.jpg', './img_data/kirmizi 785.jpg', './img_data/kirmizi 786.jpg', './img_data/kirmizi 787.jpg', './img_data/kirmizi 789.jpg', './img_data/kirmizi 790.jpg', './img_data/kirmizi 791.jpg', './img_data/kirmizi 792.jpg', './img_data/kirmizi 793.jpg', './img_data/kirmizi 794.jpg', './img_data/kirmizi 795.jpg', './img_data/kirmizi 796.jpg', './img_data/kirmizi 797.jpg', './img_data/kirmizi 798.jpg', './img_data/kirmizi 799.jpg', './img_data/kirmizi 800.jpg', './img_data/kirmizi 801.jpg', './img_data/kirmizi 802.jpg', './img_data/kirmizi 803.jpg', './img_data/kirmizi 804.jpg', './img_data/kirmizi 805.jpg', './img_data/kirmizi 807.jpg', './img_data/kirmizi 808.jpg', './img_data/kirmizi 809.jpg', './img_data/kirmizi 810.jpg', './img_data/kirmizi 811.jpg', './img_data/kirmizi 812.jpg', './img_data/kirmizi 813.jpg', './img_data/kirmizi 814.jpg', './img_data/kirmizi 815.jpg', './img_data/kirmizi 816.jpg', './img_data/kirmizi 817.jpg', './img_data/kirmizi 818.jpg', './img_data/kirmizi 819.jpg', './img_data/kirmizi 820.jpg', './img_data/kirmizi 821.jpg', './img_data/kirmizi 822.jpg', './img_data/kirmizi 823.jpg', './img_data/kirmizi 825.jpg', './img_data/kirmizi 826.jpg', './img_data/kirmizi 827.jpg', './img_data/kirmizi 828.jpg', './img_data/kirmizi 829.jpg', './img_data/kirmizi 830.jpg', './img_data/kirmizi 831.jpg', './img_data/kirmizi 832.jpg', './img_data/kirmizi 833.jpg', './img_data/kirmizi 834.jpg', './img_data/kirmizi 835.jpg', './img_data/kirmizi 836.jpg', './img_data/kirmizi 837.jpg', './img_data/kirmizi 838.jpg', './img_data/kirmizi 839.jpg', './img_data/kirmizi 840.jpg', './img_data/kirmizi 841.jpg', './img_data/kirmizi 843.jpg', './img_data/kirmizi 844.jpg', './img_data/kirmizi 845.jpg', './img_data/kirmizi 846.jpg', './img_data/kirmizi 847.jpg', './img_data/kirmizi 848.jpg', './img_data/kirmizi 849.jpg', './img_data/kirmizi 850.jpg', './img_data/kirmizi 851.jpg', './img_data/kirmizi 852.jpg', './img_data/kirmizi 853.jpg', './img_data/kirmizi 854.jpg', './img_data/kirmizi 855.jpg', './img_data/kirmizi 856.jpg', './img_data/kirmizi 857.jpg', './img_data/kirmizi 858.jpg', './img_data/kirmizi 859.jpg', './img_data/kirmizi 861.jpg', './img_data/kirmizi 862.jpg', './img_data/kirmizi 863.jpg', './img_data/kirmizi 864.jpg', './img_data/kirmizi 865.jpg', './img_data/kirmizi 866.jpg', './img_data/kirmizi 867.jpg', './img_data/kirmizi 868.jpg', './img_data/kirmizi 869.jpg', './img_data/kirmizi 870.jpg', './img_data/kirmizi 871.jpg', './img_data/kirmizi 872.jpg', './img_data/kirmizi 873.jpg', './img_data/kirmizi 874.jpg', './img_data/kirmizi 875.jpg', './img_data/kirmizi 876.jpg', './img_data/kirmizi 877.jpg', './img_data/kirmizi 879.jpg', './img_data/kirmizi 880.jpg', './img_data/kirmizi 881.jpg', './img_data/kirmizi 882.jpg', './img_data/kirmizi 883.jpg', './img_data/kirmizi 884.jpg', './img_data/kirmizi 885.jpg', './img_data/kirmizi 886.jpg', './img_data/kirmizi 887.jpg', './img_data/kirmizi 888.jpg', './img_data/kirmizi 889.jpg', './img_data/kirmizi 890.jpg', './img_data/kirmizi 891.jpg', './img_data/kirmizi 892.jpg', './img_data/kirmizi 893.jpg', './img_data/kirmizi 894.jpg', './img_data/kirmizi 895.jpg', './img_data/kirmizi 897.jpg', './img_data/kirmizi 898.jpg', './img_data/kirmizi 899.jpg', './img_data/kirmizi 900.jpg', './img_data/kirmizi 901.jpg', './img_data/kirmizi 902.jpg', './img_data/kirmizi 903.jpg', './img_data/kirmizi 904.jpg', './img_data/kirmizi 905.jpg', './img_data/kirmizi 906.jpg', './img_data/kirmizi 907.jpg', './img_data/kirmizi 908.jpg', './img_data/kirmizi 909.jpg', './img_data/kirmizi 910.jpg', './img_data/kirmizi 911.jpg', './img_data/kirmizi 912.jpg', './img_data/kirmizi 913.jpg', './img_data/kirmizi 915.jpg', './img_data/kirmizi 916.jpg', './img_data/kirmizi 917.jpg', './img_data/kirmizi 918.jpg', './img_data/kirmizi 919.jpg', './img_data/kirmizi 920.jpg', './img_data/kirmizi 921.jpg', './img_data/kirmizi 922.jpg', './img_data/kirmizi 923.jpg', './img_data/kirmizi 924.jpg', './img_data/kirmizi 925.jpg', './img_data/kirmizi 926.jpg', './img_data/kirmizi 927.jpg', './img_data/kirmizi 928.jpg', './img_data/kirmizi 929.jpg', './img_data/kirmizi 930.jpg', './img_data/kirmizi 931.jpg', './img_data/kirmizi 933.jpg', './img_data/kirmizi 934.jpg', './img_data/kirmizi 935.jpg', './img_data/kirmizi 936.jpg', './img_data/kirmizi 937.jpg', './img_data/kirmizi 938.jpg', './img_data/kirmizi 939.jpg', './img_data/kirmizi 940.jpg', './img_data/kirmizi 941.jpg', './img_data/kirmizi 942.jpg', './img_data/kirmizi 943.jpg', './img_data/kirmizi 944.jpg', './img_data/kirmizi 945.jpg', './img_data/kirmizi 946.jpg', './img_data/kirmizi 947.jpg', './img_data/kirmizi 948.jpg', './img_data/kirmizi 949.jpg', './img_data/kirmizi 951.jpg', './img_data/kirmizi 952.jpg', './img_data/kirmizi 953.jpg', './img_data/kirmizi 954.jpg', './img_data/kirmizi 955.jpg', './img_data/kirmizi 956.jpg', './img_data/kirmizi 957.jpg', './img_data/kirmizi 958.jpg', './img_data/kirmizi 959.jpg', './img_data/kirmizi 960.jpg', './img_data/kirmizi 961.jpg', './img_data/kirmizi 962.jpg', './img_data/kirmizi 963.jpg', './img_data/kirmizi 964.jpg', './img_data/kirmizi 965.jpg', './img_data/kirmizi 966.jpg', './img_data/kirmizi 967.jpg', './img_data/kirmizi 969.jpg', './img_data/kirmizi 970.jpg', './img_data/kirmizi 971.jpg', './img_data/kirmizi 972.jpg', './img_data/kirmizi 973.jpg', './img_data/kirmizi 974.jpg', './img_data/kirmizi 975.jpg', './img_data/kirmizi 976.jpg', './img_data/kirmizi 977.jpg', './img_data/kirmizi 978.jpg', './img_data/kirmizi 979.jpg', './img_data/kirmizi 980.jpg', './img_data/kirmizi 981.jpg', './img_data/kirmizi 982.jpg', './img_data/kirmizi 983.jpg', './img_data/kirmizi 984.jpg', './img_data/kirmizi 985.jpg', './img_data/kirmizi 698.jpg', './img_data/kirmizi 716.jpg', './img_data/kirmizi 734.jpg', './img_data/kirmizi 752.jpg', './img_data/kirmizi 770.jpg', './img_data/kirmizi 788.jpg', './img_data/kirmizi 806.jpg', './img_data/kirmizi 824.jpg', './img_data/kirmizi 842.jpg', './img_data/kirmizi 860.jpg', './img_data/kirmizi 878.jpg', './img_data/kirmizi 896.jpg', './img_data/kirmizi 914.jpg', './img_data/kirmizi 932.jpg', './img_data/kirmizi 950.jpg', './img_data/kirmizi 968.jpg', './img_data/kirmizi 987.jpg', './img_data/kirmizi 988.jpg', './img_data/kirmizi 989.jpg', './img_data/kirmizi 990.jpg', './img_data/kirmizi 991.jpg', './img_data/kirmizi 992.jpg', './img_data/kirmizi 993.jpg', './img_data/kirmizi 994.jpg', './img_data/kirmizi 995.jpg', './img_data/kirmizi 996.jpg', './img_data/kirmizi 997.jpg', './img_data/kirmizi 998.jpg', './img_data/kirmizi 999.jpg', './img_data/siirt 409.jpg', './img_data/siirt 410.jpg', './img_data/siirt 411.jpg', './img_data/siirt 412.jpg', './img_data/siirt 414.jpg', './img_data/siirt 415.jpg', './img_data/siirt 416.jpg', './img_data/siirt 417.jpg', './img_data/siirt 418.jpg', './img_data/siirt 419.jpg', './img_data/siirt 420.jpg', './img_data/siirt 421.jpg', './img_data/siirt 422.jpg', './img_data/siirt 423.jpg', './img_data/siirt 424.jpg', './img_data/siirt 425.jpg', './img_data/siirt 426.jpg', './img_data/siirt 427.jpg', './img_data/siirt 428.jpg', './img_data/siirt 429.jpg', './img_data/siirt 430.jpg', './img_data/siirt 432.jpg', './img_data/siirt 433.jpg', './img_data/siirt 434.jpg', './img_data/siirt 435.jpg', './img_data/siirt 436.jpg', './img_data/siirt 437.jpg', './img_data/siirt 438.jpg', './img_data/siirt 439.jpg', './img_data/siirt 440.jpg', './img_data/siirt 441.jpg', './img_data/siirt 442.jpg', './img_data/siirt 443.jpg', './img_data/siirt 444.jpg', './img_data/siirt 445.jpg', './img_data/siirt 446.jpg', './img_data/siirt 447.jpg', './img_data/siirt 448.jpg', './img_data/siirt 450.jpg', './img_data/siirt 451.jpg', './img_data/siirt 452.jpg', './img_data/siirt 453.jpg', './img_data/siirt 454.jpg', './img_data/siirt 455.jpg', './img_data/siirt 456.jpg', './img_data/siirt 457.jpg', './img_data/siirt 458.jpg', './img_data/siirt 459.jpg', './img_data/siirt 460.jpg', './img_data/siirt 461.jpg', './img_data/siirt 462.jpg', './img_data/siirt 463.jpg', './img_data/siirt 464.jpg', './img_data/siirt 465.jpg', './img_data/siirt 466.jpg', './img_data/siirt 468.jpg', './img_data/siirt 469.jpg', './img_data/siirt 470.jpg', './img_data/siirt 471.jpg', './img_data/siirt 472.jpg', './img_data/siirt 473.jpg', './img_data/siirt 474.jpg', './img_data/siirt 475.jpg', './img_data/siirt 476.jpg', './img_data/siirt 477.jpg', './img_data/siirt 478.jpg', './img_data/siirt 479.jpg', './img_data/siirt 480.jpg', './img_data/siirt 481.jpg', './img_data/siirt 482.jpg', './img_data/siirt 483.jpg', './img_data/siirt 484.jpg', './img_data/siirt 486.jpg', './img_data/siirt 487.jpg', './img_data/siirt 488.jpg', './img_data/siirt 489.jpg', './img_data/siirt 490.jpg', './img_data/siirt 491.jpg', './img_data/siirt 492.jpg', './img_data/siirt 493.jpg', './img_data/siirt 494.jpg', './img_data/siirt 495.jpg', './img_data/siirt 496.jpg', './img_data/siirt 497.jpg', './img_data/siirt 498.jpg', './img_data/siirt 499.jpg', './img_data/siirt 500.jpg', './img_data/siirt 501.jpg', './img_data/siirt 502.jpg', './img_data/siirt 504.jpg', './img_data/siirt 505.jpg', './img_data/siirt 506.jpg', './img_data/siirt 507.jpg', './img_data/siirt 508.jpg', './img_data/siirt 509.jpg', './img_data/siirt 510.jpg', './img_data/siirt 511.jpg', './img_data/siirt 512.jpg', './img_data/siirt 513.jpg', './img_data/siirt 514.jpg', './img_data/siirt 515.jpg', './img_data/siirt 516.jpg', './img_data/siirt 517.jpg', './img_data/siirt 518.jpg', './img_data/siirt 519.jpg', './img_data/siirt 520.jpg', './img_data/siirt 522.jpg', './img_data/siirt 523.jpg', './img_data/siirt 524.jpg', './img_data/siirt 525.jpg', './img_data/siirt 526.jpg', './img_data/siirt 527.jpg', './img_data/siirt 528.jpg', './img_data/siirt 529.jpg', './img_data/siirt 530.jpg', './img_data/siirt 531.jpg', './img_data/siirt 532.jpg', './img_data/siirt 533.jpg', './img_data/siirt 534.jpg', './img_data/siirt 535.jpg', './img_data/siirt 536.jpg', './img_data/siirt 537.jpg', './img_data/siirt 538.jpg', './img_data/siirt 540.jpg', './img_data/siirt 541.jpg', './img_data/siirt 542.jpg', './img_data/siirt 543.jpg', './img_data/siirt 544.jpg', './img_data/siirt 545.jpg', './img_data/siirt 546.jpg', './img_data/siirt 547.jpg', './img_data/siirt 548.jpg', './img_data/siirt 549.jpg', './img_data/siirt 550.jpg', './img_data/siirt 551.jpg', './img_data/siirt 552.jpg', './img_data/siirt 553.jpg', './img_data/siirt 554.jpg', './img_data/siirt 555.jpg', './img_data/siirt 556.jpg', './img_data/siirt 558.jpg', './img_data/siirt 559.jpg', './img_data/siirt 560.jpg', './img_data/siirt 561.jpg', './img_data/siirt 562.jpg', './img_data/siirt 563.jpg', './img_data/siirt 564.jpg', './img_data/siirt 565.jpg', './img_data/siirt 566.jpg', './img_data/siirt 567.jpg', './img_data/siirt 568.jpg', './img_data/siirt 569.jpg', './img_data/siirt 570.jpg', './img_data/siirt 571.jpg', './img_data/siirt 572.jpg', './img_data/siirt 573.jpg', './img_data/siirt 574.jpg', './img_data/siirt 576.jpg', './img_data/siirt 577.jpg', './img_data/siirt 578.jpg', './img_data/siirt 579.jpg', './img_data/siirt 580.jpg', './img_data/siirt 581.jpg', './img_data/siirt 582.jpg', './img_data/siirt 583.jpg', './img_data/siirt 584.jpg', './img_data/siirt 585.jpg', './img_data/siirt 586.jpg', './img_data/siirt 587.jpg', './img_data/siirt 588.jpg', './img_data/siirt 589.jpg', './img_data/siirt 590.jpg', './img_data/siirt 591.jpg', './img_data/siirt 592.jpg', './img_data/siirt 594.jpg', './img_data/siirt 595.jpg', './img_data/siirt 596.jpg', './img_data/siirt 597.jpg', './img_data/siirt 598.jpg', './img_data/siirt 599.jpg', './img_data/siirt 600.jpg', './img_data/siirt 601.jpg', './img_data/siirt 602.jpg', './img_data/siirt 603.jpg', './img_data/siirt 604.jpg', './img_data/siirt 605.jpg', './img_data/siirt 606.jpg', './img_data/siirt 607.jpg', './img_data/siirt 608.jpg', './img_data/siirt 609.jpg', './img_data/siirt 610.jpg', './img_data/siirt 612.jpg', './img_data/siirt 613.jpg', './img_data/siirt 614.jpg', './img_data/siirt 615.jpg', './img_data/siirt 616.jpg', './img_data/siirt 617.jpg', './img_data/siirt 618.jpg', './img_data/siirt 619.jpg', './img_data/siirt 620.jpg', './img_data/siirt 621.jpg', './img_data/siirt 622.jpg', './img_data/siirt 623.jpg', './img_data/siirt 624.jpg', './img_data/siirt 625.jpg', './img_data/siirt 626.jpg', './img_data/siirt 627.jpg', './img_data/siirt 628.jpg', './img_data/siirt 630.jpg', './img_data/siirt 631.jpg', './img_data/siirt 632.jpg', './img_data/siirt 633.jpg', './img_data/siirt 634.jpg', './img_data/siirt 635.jpg', './img_data/siirt 636.jpg', './img_data/siirt 637.jpg', './img_data/siirt 638.jpg', './img_data/siirt 639.jpg', './img_data/siirt 640.jpg', './img_data/siirt 641.jpg', './img_data/siirt 642.jpg', './img_data/siirt 643.jpg', './img_data/siirt 644.jpg', './img_data/siirt 645.jpg', './img_data/siirt 646.jpg', './img_data/siirt 648.jpg', './img_data/siirt 649.jpg', './img_data/siirt 650.jpg', './img_data/siirt 651.jpg', './img_data/siirt 652.jpg', './img_data/siirt 653.jpg', './img_data/siirt 654.jpg', './img_data/siirt 655.jpg', './img_data/siirt 656.jpg', './img_data/siirt 657.jpg', './img_data/siirt 658.jpg', './img_data/siirt 659.jpg', './img_data/siirt 660.jpg', './img_data/siirt 661.jpg', './img_data/siirt 662.jpg', './img_data/siirt 663.jpg', './img_data/siirt 664.jpg', './img_data/siirt 666.jpg', './img_data/siirt 667.jpg', './img_data/siirt 668.jpg', './img_data/siirt 669.jpg', './img_data/siirt 670.jpg', './img_data/siirt 671.jpg', './img_data/siirt 672.jpg', './img_data/siirt 673.jpg', './img_data/siirt 674.jpg', './img_data/siirt 675.jpg', './img_data/siirt 676.jpg', './img_data/siirt 677.jpg', './img_data/siirt 678.jpg', './img_data/siirt 679.jpg', './img_data/siirt 680.jpg', './img_data/siirt 681.jpg', './img_data/siirt 682.jpg', './img_data/siirt 684.jpg', './img_data/siirt 685.jpg', './img_data/siirt 686.jpg', './img_data/siirt 687.jpg', './img_data/siirt 688.jpg', './img_data/siirt 689.jpg', './img_data/siirt 690.jpg', './img_data/siirt 691.jpg', './img_data/siirt 692.jpg', './img_data/siirt 693.jpg', './img_data/siirt 694.jpg', './img_data/siirt 695.jpg', './img_data/siirt 696.jpg', './img_data/siirt 697.jpg', './img_data/siirt 698.jpg', './img_data/siirt 699.jpg', './img_data/siirt 700.jpg', './img_data/siirt 702.jpg', './img_data/siirt 703.jpg', './img_data/siirt 704.jpg', './img_data/siirt 705.jpg', './img_data/siirt 706.jpg', './img_data/siirt 707.jpg', './img_data/siirt 708.jpg', './img_data/siirt 709.jpg', './img_data/siirt 710.jpg', './img_data/siirt 711.jpg', './img_data/siirt 712.jpg', './img_data/siirt 713.jpg', './img_data/siirt 714.jpg', './img_data/siirt 715.jpg', './img_data/siirt 716.jpg', './img_data/siirt 717.jpg', './img_data/siirt 718.jpg', './img_data/siirt 413.jpg', './img_data/siirt 431.jpg', './img_data/siirt 449.jpg', './img_data/siirt 467.jpg', './img_data/siirt 485.jpg', './img_data/siirt 503.jpg', './img_data/siirt 521.jpg', './img_data/siirt 539.jpg', './img_data/siirt 557.jpg', './img_data/siirt 575.jpg', './img_data/siirt 593.jpg', './img_data/siirt 611.jpg', './img_data/siirt 629.jpg', './img_data/siirt 647.jpg', './img_data/siirt 665.jpg', './img_data/siirt 683.jpg', './img_data/siirt 701.jpg', './img_data/siirt 719.jpg', './img_data/siirt 737.jpg', './img_data/siirt 755.jpg', './img_data/siirt 773.jpg', './img_data/siirt 791.jpg', './img_data/siirt 809.jpg', './img_data/siirt 827.jpg', './img_data/siirt 845.jpg', './img_data/siirt 720.jpg', './img_data/siirt 721.jpg', './img_data/siirt 722.jpg', './img_data/siirt 723.jpg', './img_data/siirt 724.jpg', './img_data/siirt 725.jpg', './img_data/siirt 726.jpg', './img_data/siirt 727.jpg', './img_data/siirt 728.jpg', './img_data/siirt 729.jpg', './img_data/siirt 730.jpg', './img_data/siirt 731.jpg', './img_data/siirt 732.jpg', './img_data/siirt 733.jpg', './img_data/siirt 734.jpg', './img_data/siirt 735.jpg', './img_data/siirt 736.jpg', './img_data/siirt 738.jpg', './img_data/siirt 739.jpg', './img_data/siirt 740.jpg', './img_data/siirt 741.jpg', './img_data/siirt 742.jpg', './img_data/siirt 743.jpg', './img_data/siirt 744.jpg', './img_data/siirt 745.jpg', './img_data/siirt 746.jpg', './img_data/siirt 747.jpg', './img_data/siirt 748.jpg', './img_data/siirt 749.jpg', './img_data/siirt 750.jpg', './img_data/siirt 751.jpg', './img_data/siirt 752.jpg', './img_data/siirt 753.jpg', './img_data/siirt 754.jpg', './img_data/siirt 756.jpg', './img_data/siirt 757.jpg', './img_data/siirt 758.jpg', './img_data/siirt 759.jpg', './img_data/siirt 760.jpg', './img_data/siirt 761.jpg', './img_data/siirt 762.jpg', './img_data/siirt 763.jpg', './img_data/siirt 764.jpg', './img_data/siirt 765.jpg', './img_data/siirt 766.jpg', './img_data/siirt 767.jpg', './img_data/siirt 768.jpg', './img_data/siirt 769.jpg', './img_data/siirt 770.jpg', './img_data/siirt 771.jpg', './img_data/siirt 772.jpg', './img_data/siirt 774.jpg', './img_data/siirt 775.jpg', './img_data/siirt 776.jpg', './img_data/siirt 777.jpg', './img_data/siirt 778.jpg', './img_data/siirt 779.jpg', './img_data/siirt 780.jpg', './img_data/siirt 781.jpg', './img_data/siirt 782.jpg', './img_data/siirt 783.jpg', './img_data/siirt 784.jpg', './img_data/siirt 785.jpg', './img_data/siirt 786.jpg', './img_data/siirt 787.jpg', './img_data/siirt 788.jpg', './img_data/siirt 789.jpg', './img_data/siirt 790.jpg', './img_data/siirt 792.jpg', './img_data/siirt 793.jpg', './img_data/siirt 794.jpg', './img_data/siirt 795.jpg', './img_data/siirt 796.jpg', './img_data/siirt 797.jpg', './img_data/siirt 798.jpg', './img_data/siirt 799.jpg', './img_data/siirt 800.jpg', './img_data/siirt 801.jpg', './img_data/siirt 802.jpg', './img_data/siirt 803.jpg', './img_data/siirt 804.jpg', './img_data/siirt 805.jpg', './img_data/siirt 806.jpg', './img_data/siirt 807.jpg', './img_data/siirt 808.jpg', './img_data/siirt 810.jpg', './img_data/siirt 811.jpg', './img_data/siirt 812.jpg', './img_data/siirt 813.jpg', './img_data/siirt 814.jpg', './img_data/siirt 815.jpg', './img_data/siirt 816.jpg', './img_data/siirt 817.jpg', './img_data/siirt 818.jpg', './img_data/siirt 819.jpg', './img_data/siirt 820.jpg', './img_data/siirt 821.jpg', './img_data/siirt 822.jpg', './img_data/siirt 823.jpg', './img_data/siirt 824.jpg', './img_data/siirt 825.jpg', './img_data/siirt 826.jpg', './img_data/siirt 828.jpg', './img_data/siirt 829.jpg', './img_data/siirt 830.jpg', './img_data/siirt 831.jpg', './img_data/siirt 832.jpg', './img_data/siirt 833.jpg', './img_data/siirt 834.jpg', './img_data/siirt 835.jpg', './img_data/siirt 836.jpg', './img_data/siirt 837.jpg', './img_data/siirt 838.jpg', './img_data/siirt 839.jpg', './img_data/siirt 840.jpg', './img_data/siirt 841.jpg', './img_data/siirt 842.jpg', './img_data/siirt 843.jpg', './img_data/siirt 844.jpg', './img_data/siirt 846.jpg', './img_data/siirt 847.jpg', './img_data/siirt 848.jpg', './img_data/siirt 849.jpg', './img_data/siirt 850.jpg', './img_data/siirt 851.jpg', './img_data/siirt 852.jpg', './img_data/siirt 853.jpg', './img_data/siirt 854.jpg', './img_data/siirt 855.jpg', './img_data/siirt 856.jpg', './img_data/siirt 857.jpg', './img_data/siirt 858.jpg', './img_data/siirt 859.jpg', './img_data/siirt 860.jpg', './img_data/siirt 861.jpg', './img_data/siirt 862.jpg', './img_data/siirt 863.jpg', './img_data/siirt 864.jpg', './img_data/siirt 865.jpg', './img_data/siirt 866.jpg']\n"
     ]
    },
    {
     "name": "stderr",
     "output_type": "stream",
     "text": [
      "Processing images: 100%|██████████| 1074/1074 [00:00<00:00, 1179.11image/s]\n"
     ]
    }
   ],
   "source": [
    "data_path = \"./img_data/\"\n",
    "write_path = \"./Cache/\"\n",
    "\n",
    "if not os.path.exists(write_path):\n",
    "            os.makedirs(write_path)\n",
    "\n",
    "csv_path = os.path.join(write_path, \"path_dataset.csv\")\n",
    "\n",
    "# We will cache the data so that it will load faster\n",
    "if os.path.exists(csv_path):\n",
    "    print(\"Loading cached dataset...\")\n",
    "    img_df = pd.read_csv(csv_path)\n",
    "    print(\"Cached dataset loaded\")\n",
    "else:\n",
    "    print(\"Creating and caching dataset...\")\n",
    "    img_df = img_to_df(data_path)\n",
    "    img_df.to_csv(csv_path, index=False)"
   ]
  },
  {
   "cell_type": "markdown",
   "id": "7debb2fa",
   "metadata": {},
   "source": []
  }
 ],
 "metadata": {
  "kernelspec": {
   "display_name": "torch-env",
   "language": "python",
   "name": "python3"
  },
  "language_info": {
   "codemirror_mode": {
    "name": "ipython",
    "version": 3
   },
   "file_extension": ".py",
   "mimetype": "text/x-python",
   "name": "python",
   "nbconvert_exporter": "python",
   "pygments_lexer": "ipython3",
   "version": "3.11.11"
  }
 },
 "nbformat": 4,
 "nbformat_minor": 5
}
